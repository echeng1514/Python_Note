{
 "cells": [
  {
   "cell_type": "code",
   "execution_count": 11,
   "metadata": {
    "collapsed": true
   },
   "outputs": [],
   "source": [
    "solts = []\n",
    "solts_num = 32\n",
    "\n",
    "for _ in range(solts_num):\n",
    "    solts.append([])\n",
    "\n",
    "def put(solts, key, value):\n",
    "    i = hash(key) % solts_num\n",
    "    p = -1\n",
    "    for p, (k, v) in enumerate(solts[i]):\n",
    "        if k == key:\n",
    "            break\n",
    "    else:\n",
    "        solts[i].append((key, value))\n",
    "        return\n",
    "    if p >= 0:\n",
    "        solts[i][p] = (key, value)\n",
    "\n",
    "def get(solts, key):\n",
    "    i = hash(key) % solts_num\n",
    "    for k, v in solts[i]:\n",
    "        if k == key:\n",
    "            return v\n",
    "    raise KeyError(k)"
   ]
  },
  {
   "cell_type": "code",
   "execution_count": 12,
   "metadata": {
    "collapsed": true
   },
   "outputs": [],
   "source": [
    "put(solts, 'r', 2)"
   ]
  },
  {
   "cell_type": "code",
   "execution_count": 14,
   "metadata": {
    "collapsed": false
   },
   "outputs": [],
   "source": [
    "put(solts, 'r', 3)"
   ]
  },
  {
   "cell_type": "code",
   "execution_count": 29,
   "metadata": {
    "collapsed": true
   },
   "outputs": [],
   "source": [
    "class Dict:\n",
    "    def __init__(self, num):\n",
    "        self.__solts__ = []\n",
    "        self.num = num\n",
    "        for _ in range(num):\n",
    "            self.__solts__.append([])\n",
    "    \n",
    "    def put(self, key, value):\n",
    "        i = hash(key) % self.num\n",
    "        for p, (k, v) in enumerate(self.__solts__[i]):\n",
    "            if k == key:\n",
    "                break\n",
    "        else:\n",
    "            self.__solts__[i].append((key, value))\n",
    "            return\n",
    "        self.__solts__[i][p] = (key, value)\n",
    "    \n",
    "    def get(self, key):\n",
    "        i = hash(key) % self.num\n",
    "        for k, v in self.__solts__[i]:\n",
    "            if k == key:\n",
    "                return v\n",
    "        raise KeyError(key)\n",
    "    \n",
    "    def keys(self):\n",
    "        ret = []\n",
    "        for solt in self.__solts__:\n",
    "            for k, _ in solt:\n",
    "                ret.append(k)\n",
    "        return ret"
   ]
  },
  {
   "cell_type": "code",
   "execution_count": 30,
   "metadata": {
    "collapsed": false
   },
   "outputs": [],
   "source": [
    "d = Dict(32)"
   ]
  },
  {
   "cell_type": "code",
   "execution_count": 31,
   "metadata": {
    "collapsed": true
   },
   "outputs": [],
   "source": [
    "d.put('r', 2)"
   ]
  },
  {
   "cell_type": "code",
   "execution_count": 32,
   "metadata": {
    "collapsed": true
   },
   "outputs": [],
   "source": [
    "d.put('d', 2)"
   ]
  },
  {
   "cell_type": "code",
   "execution_count": 26,
   "metadata": {
    "collapsed": false
   },
   "outputs": [
    {
     "data": {
      "text/plain": [
       "2"
      ]
     },
     "execution_count": 26,
     "metadata": {},
     "output_type": "execute_result"
    }
   ],
   "source": [
    "d.get('r')"
   ]
  },
  {
   "cell_type": "code",
   "execution_count": 27,
   "metadata": {
    "collapsed": false
   },
   "outputs": [
    {
     "data": {
      "text/plain": [
       "2"
      ]
     },
     "execution_count": 27,
     "metadata": {},
     "output_type": "execute_result"
    }
   ],
   "source": [
    "d.get('d')"
   ]
  },
  {
   "cell_type": "code",
   "execution_count": 33,
   "metadata": {
    "collapsed": false
   },
   "outputs": [
    {
     "data": {
      "text/plain": [
       "['r', 'd']"
      ]
     },
     "execution_count": 33,
     "metadata": {},
     "output_type": "execute_result"
    }
   ],
   "source": [
    "d.keys()"
   ]
  },
  {
   "cell_type": "code",
   "execution_count": null,
   "metadata": {
    "collapsed": true
   },
   "outputs": [],
   "source": []
  }
 ],
 "metadata": {
  "kernelspec": {
   "display_name": "Python 3",
   "language": "python",
   "name": "python3"
  },
  "language_info": {
   "codemirror_mode": {
    "name": "ipython",
    "version": 3
   },
   "file_extension": ".py",
   "mimetype": "text/x-python",
   "name": "python",
   "nbconvert_exporter": "python",
   "pygments_lexer": "ipython3",
   "version": "3.5.2"
  }
 },
 "nbformat": 4,
 "nbformat_minor": 2
}
